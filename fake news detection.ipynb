{
 "cells": [
  {
   "cell_type": "code",
   "execution_count": 1,
   "id": "cc69d285",
   "metadata": {},
   "outputs": [],
   "source": [
    "import pandas as pd\n",
    "import matplotlib.pyplot as plt\n",
    "import seaborn as sns\n",
    "import nltk\n",
    "from nltk.corpus import stopwords\n",
    "from nltk.tokenize import word_tokenize\n",
    "from nltk.stem import PorterStemmer, WordNetLemmatizer\n",
    "import re\n",
    "from sklearn.model_selection import train_test_split"
   ]
  },
  {
   "cell_type": "code",
   "execution_count": 2,
   "id": "d2b56aba",
   "metadata": {},
   "outputs": [],
   "source": [
    "stopwords = stopwords.words('english')"
   ]
  },
  {
   "cell_type": "code",
   "execution_count": 3,
   "id": "18736cb4",
   "metadata": {},
   "outputs": [
    {
     "data": {
      "text/html": [
       "<div>\n",
       "<style scoped>\n",
       "    .dataframe tbody tr th:only-of-type {\n",
       "        vertical-align: middle;\n",
       "    }\n",
       "\n",
       "    .dataframe tbody tr th {\n",
       "        vertical-align: top;\n",
       "    }\n",
       "\n",
       "    .dataframe thead th {\n",
       "        text-align: right;\n",
       "    }\n",
       "</style>\n",
       "<table border=\"1\" class=\"dataframe\">\n",
       "  <thead>\n",
       "    <tr style=\"text-align: right;\">\n",
       "      <th></th>\n",
       "      <th>title</th>\n",
       "      <th>text</th>\n",
       "      <th>date</th>\n",
       "      <th>fake_or_factual</th>\n",
       "    </tr>\n",
       "  </thead>\n",
       "  <tbody>\n",
       "    <tr>\n",
       "      <th>0</th>\n",
       "      <td>HOLLYWEIRD LIB SUSAN SARANDON Compares Muslim ...</td>\n",
       "      <td>There are two small problems with your analogy...</td>\n",
       "      <td>Dec 30, 2015</td>\n",
       "      <td>Fake News</td>\n",
       "    </tr>\n",
       "    <tr>\n",
       "      <th>1</th>\n",
       "      <td>Elijah Cummings Called Trump Out To His Face ...</td>\n",
       "      <td>Buried in Trump s bonkers interview with New Y...</td>\n",
       "      <td>April 6, 2017</td>\n",
       "      <td>Fake News</td>\n",
       "    </tr>\n",
       "    <tr>\n",
       "      <th>2</th>\n",
       "      <td>Hillary Clinton Says Half Her Cabinet Will Be...</td>\n",
       "      <td>Women make up over 50 percent of this country,...</td>\n",
       "      <td>April 26, 2016</td>\n",
       "      <td>Fake News</td>\n",
       "    </tr>\n",
       "    <tr>\n",
       "      <th>3</th>\n",
       "      <td>Russian bombing of U.S.-backed forces being di...</td>\n",
       "      <td>WASHINGTON (Reuters) - U.S. Defense Secretary ...</td>\n",
       "      <td>September 18, 2017</td>\n",
       "      <td>Factual News</td>\n",
       "    </tr>\n",
       "    <tr>\n",
       "      <th>4</th>\n",
       "      <td>Britain says window to restore Northern Irelan...</td>\n",
       "      <td>BELFAST (Reuters) - Northern Ireland s politic...</td>\n",
       "      <td>September 4, 2017</td>\n",
       "      <td>Factual News</td>\n",
       "    </tr>\n",
       "  </tbody>\n",
       "</table>\n",
       "</div>"
      ],
      "text/plain": [
       "                                               title  \\\n",
       "0  HOLLYWEIRD LIB SUSAN SARANDON Compares Muslim ...   \n",
       "1   Elijah Cummings Called Trump Out To His Face ...   \n",
       "2   Hillary Clinton Says Half Her Cabinet Will Be...   \n",
       "3  Russian bombing of U.S.-backed forces being di...   \n",
       "4  Britain says window to restore Northern Irelan...   \n",
       "\n",
       "                                                text                 date  \\\n",
       "0  There are two small problems with your analogy...         Dec 30, 2015   \n",
       "1  Buried in Trump s bonkers interview with New Y...        April 6, 2017   \n",
       "2  Women make up over 50 percent of this country,...       April 26, 2016   \n",
       "3  WASHINGTON (Reuters) - U.S. Defense Secretary ...  September 18, 2017    \n",
       "4  BELFAST (Reuters) - Northern Ireland s politic...   September 4, 2017    \n",
       "\n",
       "  fake_or_factual  \n",
       "0       Fake News  \n",
       "1       Fake News  \n",
       "2       Fake News  \n",
       "3    Factual News  \n",
       "4    Factual News  "
      ]
     },
     "execution_count": 3,
     "metadata": {},
     "output_type": "execute_result"
    }
   ],
   "source": [
    "df = pd.read_csv('fake_news_data.csv')\n",
    "df.head()"
   ]
  },
  {
   "cell_type": "code",
   "execution_count": 4,
   "id": "7d00d2fa",
   "metadata": {},
   "outputs": [
    {
     "name": "stdout",
     "output_type": "stream",
     "text": [
      "<class 'pandas.core.frame.DataFrame'>\n",
      "RangeIndex: 198 entries, 0 to 197\n",
      "Data columns (total 4 columns):\n",
      " #   Column           Non-Null Count  Dtype \n",
      "---  ------           --------------  ----- \n",
      " 0   title            198 non-null    object\n",
      " 1   text             198 non-null    object\n",
      " 2   date             198 non-null    object\n",
      " 3   fake_or_factual  198 non-null    object\n",
      "dtypes: object(4)\n",
      "memory usage: 6.3+ KB\n"
     ]
    }
   ],
   "source": [
    "df.info()"
   ]
  },
  {
   "cell_type": "markdown",
   "id": "4591d801",
   "metadata": {},
   "source": [
    "## Discover target value column:"
   ]
  },
  {
   "cell_type": "code",
   "execution_count": 5,
   "id": "89e14202",
   "metadata": {},
   "outputs": [
    {
     "data": {
      "text/plain": [
       "Factual News    50.505051\n",
       "Fake News       49.494949\n",
       "Name: fake_or_factual, dtype: float64"
      ]
     },
     "execution_count": 5,
     "metadata": {},
     "output_type": "execute_result"
    }
   ],
   "source": [
    "df['fake_or_factual'].value_counts() * 100 / df.shape[0]"
   ]
  },
  {
   "cell_type": "markdown",
   "id": "67f358ce",
   "metadata": {},
   "source": [
    "We have a nearly balanced target value classes.\n",
    "50.5% Factual News and 49.5% Fake News."
   ]
  },
  {
   "cell_type": "code",
   "execution_count": 6,
   "id": "021af335",
   "metadata": {},
   "outputs": [
    {
     "data": {
      "text/plain": [
       "' Elijah Cummings Called Trump Out To His Face And Here’s The Pathetic Way Trump Tried To Spin It'"
      ]
     },
     "execution_count": 6,
     "metadata": {},
     "output_type": "execute_result"
    }
   ],
   "source": [
    "df['title'][1]"
   ]
  },
  {
   "cell_type": "code",
   "execution_count": 7,
   "id": "d03fddfb",
   "metadata": {},
   "outputs": [
    {
     "data": {
      "text/plain": [
       "'Buried in Trump s bonkers interview with New York Times reporters Maggie Haberman and Glenn Thrush is this outrageous exchange Trump claims happened recently:TRUMP: [U.S. Representative] Elijah Cummings was in my office and he said,  You will go down as one of the great presidents in the history of our country. HABERMAN: Really?TRUMP: And then he went out and I watched him on television yesterday and I said,  Was that the same man? Which  would have been odd considering Cummings, a fiery Democratic congressman, has been one of Trump s most intense critics. He s very public about it. Cummings has been outspoken about Trump s disturbing connections to Russia, the GOP s botched attempts to cover those connections up, and has repeatedly demanded Trump divest himself of his numerous conflicts of interest. He hardly sounds like a person who has looked at Trump s trainwreck first three months in office and concluded that he deserves to be up on Mount Rushmore.One theory was that Trump flatly lied. Always a possibility   Trump is a pathological liar. Another, suggested by writer Jamelle Bouie, is that Trump mixed up two black men, conflating Cummings with some other guy. Another strong possibility   Trump has shown a complete lack of interest in the lives of black Americans.Fortunately, Cummings came in to provide the real answer: Trump took a criticism Cummings has made to his face and filtered it through his unchecked narcissism. Here s how Cummings describes the meeting Trump said was about praising him: During my meeting with the president and on several occasions since then, I have said repeatedly that he could be a great president if   if   he takes steps to truly represent all Americans rather than continuing on the divisive and harmful path he is currently on. Note the jab that Trump completely missed? IF Trump stops being  divisive and harmful  he could someday be a great president. So far he has not done so. Hasn t even tried. (As if to underscore how little Trump has tried to stop being divisive, in the same interview he defended Bill O Reilly for sexually harassing women at Fox News.)Unintentionally, Trump s bizarre retelling of what went down during his meeting with Cummings exemplifies the warped way Trump sees the world. A criticism turns into praise, stripping away all context in the process. It may explain, for example, why Trump seems to genuinely believe he saw Muslim Americans celebrating on 9/11. His ego filters everything, facts get distorted and retooled for his own agenda.The fact that we have a president who does not seem to understand the difference between reality and the fantasy world that exists in his head is a recipe for disaster. If meetings with a congressman get this distorted, what other delusions is Trump living in?Featured image via Win McNamee/Getty Images'"
      ]
     },
     "execution_count": 7,
     "metadata": {},
     "output_type": "execute_result"
    }
   ],
   "source": [
    "df['text'][1]"
   ]
  },
  {
   "cell_type": "code",
   "execution_count": 8,
   "id": "657a7930",
   "metadata": {},
   "outputs": [],
   "source": [
    "def lower_remove_stopwords(text_series):\n",
    "    return text_series.str.lower().apply(lambda s: ' '.join([w for w in s.split() if w not in stopwords]))"
   ]
  },
  {
   "cell_type": "code",
   "execution_count": 9,
   "id": "59d8454b",
   "metadata": {},
   "outputs": [],
   "source": [
    "df['text'] = lower_remove_stopwords(df['text'])"
   ]
  },
  {
   "cell_type": "code",
   "execution_count": 10,
   "id": "a39e6f65",
   "metadata": {},
   "outputs": [
    {
     "data": {
      "text/plain": [
       "'buried trump bonkers interview new york times reporters maggie haberman glenn thrush outrageous exchange trump claims happened recently:trump: [u.s. representative] elijah cummings office said, go one great presidents history country. haberman: really?trump: went watched television yesterday said, man? would odd considering cummings, fiery democratic congressman, one trump intense critics. public it. cummings outspoken trump disturbing connections russia, gop botched attempts cover connections up, repeatedly demanded trump divest numerous conflicts interest. hardly sounds like person looked trump trainwreck first three months office concluded deserves mount rushmore.one theory trump flatly lied. always possibility trump pathological liar. another, suggested writer jamelle bouie, trump mixed two black men, conflating cummings guy. another strong possibility trump shown complete lack interest lives black americans.fortunately, cummings came provide real answer: trump took criticism cummings made face filtered unchecked narcissism. cummings describes meeting trump said praising him: meeting president several occasions since then, said repeatedly could great president takes steps truly represent americans rather continuing divisive harmful path currently on. note jab trump completely missed? trump stops divisive harmful could someday great president. far done so. even tried. (as underscore little trump tried stop divisive, interview defended bill reilly sexually harassing women fox news.)unintentionally, trump bizarre retelling went meeting cummings exemplifies warped way trump sees world. criticism turns praise, stripping away context process. may explain, example, trump seems genuinely believe saw muslim americans celebrating 9/11. ego filters everything, facts get distorted retooled agenda.the fact president seem understand difference reality fantasy world exists head recipe disaster. meetings congressman get distorted, delusions trump living in?featured image via win mcnamee/getty images'"
      ]
     },
     "execution_count": 10,
     "metadata": {},
     "output_type": "execute_result"
    }
   ],
   "source": [
    "df['text'][1]"
   ]
  },
  {
   "cell_type": "code",
   "execution_count": null,
   "id": "16851432",
   "metadata": {},
   "outputs": [],
   "source": []
  }
 ],
 "metadata": {
  "kernelspec": {
   "display_name": "Python 3 (ipykernel)",
   "language": "python",
   "name": "python3"
  },
  "language_info": {
   "codemirror_mode": {
    "name": "ipython",
    "version": 3
   },
   "file_extension": ".py",
   "mimetype": "text/x-python",
   "name": "python",
   "nbconvert_exporter": "python",
   "pygments_lexer": "ipython3",
   "version": "3.9.12"
  }
 },
 "nbformat": 4,
 "nbformat_minor": 5
}
