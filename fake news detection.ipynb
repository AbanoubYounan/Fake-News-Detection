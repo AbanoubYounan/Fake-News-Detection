{
 "cells": [
  {
   "cell_type": "code",
   "execution_count": 26,
   "id": "cc69d285",
   "metadata": {},
   "outputs": [],
   "source": [
    "import pandas as pd\n",
    "import matplotlib.pyplot as plt\n",
    "import seaborn as sns\n",
    "import nltk\n",
    "from nltk.corpus import stopwords\n",
    "from nltk.tokenize import word_tokenize\n",
    "from nltk.stem import PorterStemmer, WordNetLemmatizer\n",
    "import re\n",
    "from sklearn.model_selection import train_test_split"
   ]
  },
  {
   "cell_type": "code",
   "execution_count": 27,
   "id": "d2b56aba",
   "metadata": {},
   "outputs": [],
   "source": [
    "stopwords = stopwords.words('english')"
   ]
  },
  {
   "cell_type": "code",
   "execution_count": 121,
   "id": "18736cb4",
   "metadata": {},
   "outputs": [
    {
     "data": {
      "text/html": [
       "<div>\n",
       "<style scoped>\n",
       "    .dataframe tbody tr th:only-of-type {\n",
       "        vertical-align: middle;\n",
       "    }\n",
       "\n",
       "    .dataframe tbody tr th {\n",
       "        vertical-align: top;\n",
       "    }\n",
       "\n",
       "    .dataframe thead th {\n",
       "        text-align: right;\n",
       "    }\n",
       "</style>\n",
       "<table border=\"1\" class=\"dataframe\">\n",
       "  <thead>\n",
       "    <tr style=\"text-align: right;\">\n",
       "      <th></th>\n",
       "      <th>title</th>\n",
       "      <th>text</th>\n",
       "      <th>date</th>\n",
       "      <th>fake_or_factual</th>\n",
       "    </tr>\n",
       "  </thead>\n",
       "  <tbody>\n",
       "    <tr>\n",
       "      <th>0</th>\n",
       "      <td>HOLLYWEIRD LIB SUSAN SARANDON Compares Muslim ...</td>\n",
       "      <td>There are two small problems with your analogy...</td>\n",
       "      <td>Dec 30, 2015</td>\n",
       "      <td>Fake News</td>\n",
       "    </tr>\n",
       "    <tr>\n",
       "      <th>1</th>\n",
       "      <td>Elijah Cummings Called Trump Out To His Face ...</td>\n",
       "      <td>Buried in Trump s bonkers interview with New Y...</td>\n",
       "      <td>April 6, 2017</td>\n",
       "      <td>Fake News</td>\n",
       "    </tr>\n",
       "    <tr>\n",
       "      <th>2</th>\n",
       "      <td>Hillary Clinton Says Half Her Cabinet Will Be...</td>\n",
       "      <td>Women make up over 50 percent of this country,...</td>\n",
       "      <td>April 26, 2016</td>\n",
       "      <td>Fake News</td>\n",
       "    </tr>\n",
       "    <tr>\n",
       "      <th>3</th>\n",
       "      <td>Russian bombing of U.S.-backed forces being di...</td>\n",
       "      <td>WASHINGTON (Reuters) - U.S. Defense Secretary ...</td>\n",
       "      <td>September 18, 2017</td>\n",
       "      <td>Factual News</td>\n",
       "    </tr>\n",
       "    <tr>\n",
       "      <th>4</th>\n",
       "      <td>Britain says window to restore Northern Irelan...</td>\n",
       "      <td>BELFAST (Reuters) - Northern Ireland s politic...</td>\n",
       "      <td>September 4, 2017</td>\n",
       "      <td>Factual News</td>\n",
       "    </tr>\n",
       "  </tbody>\n",
       "</table>\n",
       "</div>"
      ],
      "text/plain": [
       "                                               title  \\\n",
       "0  HOLLYWEIRD LIB SUSAN SARANDON Compares Muslim ...   \n",
       "1   Elijah Cummings Called Trump Out To His Face ...   \n",
       "2   Hillary Clinton Says Half Her Cabinet Will Be...   \n",
       "3  Russian bombing of U.S.-backed forces being di...   \n",
       "4  Britain says window to restore Northern Irelan...   \n",
       "\n",
       "                                                text                 date  \\\n",
       "0  There are two small problems with your analogy...         Dec 30, 2015   \n",
       "1  Buried in Trump s bonkers interview with New Y...        April 6, 2017   \n",
       "2  Women make up over 50 percent of this country,...       April 26, 2016   \n",
       "3  WASHINGTON (Reuters) - U.S. Defense Secretary ...  September 18, 2017    \n",
       "4  BELFAST (Reuters) - Northern Ireland s politic...   September 4, 2017    \n",
       "\n",
       "  fake_or_factual  \n",
       "0       Fake News  \n",
       "1       Fake News  \n",
       "2       Fake News  \n",
       "3    Factual News  \n",
       "4    Factual News  "
      ]
     },
     "execution_count": 121,
     "metadata": {},
     "output_type": "execute_result"
    }
   ],
   "source": [
    "df = pd.read_csv('fake_news_data.csv')\n",
    "df.head()"
   ]
  },
  {
   "cell_type": "code",
   "execution_count": 122,
   "id": "7d00d2fa",
   "metadata": {},
   "outputs": [
    {
     "name": "stdout",
     "output_type": "stream",
     "text": [
      "<class 'pandas.core.frame.DataFrame'>\n",
      "RangeIndex: 198 entries, 0 to 197\n",
      "Data columns (total 4 columns):\n",
      " #   Column           Non-Null Count  Dtype \n",
      "---  ------           --------------  ----- \n",
      " 0   title            198 non-null    object\n",
      " 1   text             198 non-null    object\n",
      " 2   date             198 non-null    object\n",
      " 3   fake_or_factual  198 non-null    object\n",
      "dtypes: object(4)\n",
      "memory usage: 6.3+ KB\n"
     ]
    }
   ],
   "source": [
    "df.info()"
   ]
  },
  {
   "cell_type": "markdown",
   "id": "4591d801",
   "metadata": {},
   "source": [
    "## Discover target value column:"
   ]
  },
  {
   "cell_type": "code",
   "execution_count": 123,
   "id": "89e14202",
   "metadata": {},
   "outputs": [
    {
     "data": {
      "text/plain": [
       "Factual News    50.505051\n",
       "Fake News       49.494949\n",
       "Name: fake_or_factual, dtype: float64"
      ]
     },
     "execution_count": 123,
     "metadata": {},
     "output_type": "execute_result"
    }
   ],
   "source": [
    "df['fake_or_factual'].value_counts() * 100 / df.shape[0]"
   ]
  },
  {
   "cell_type": "markdown",
   "id": "67f358ce",
   "metadata": {},
   "source": [
    "We have a nearly balanced target value classes.\n",
    "50.5% Factual News and 49.5% Fake News."
   ]
  },
  {
   "cell_type": "markdown",
   "id": "20b15dad",
   "metadata": {},
   "source": [
    "## Cleaning text column:"
   ]
  },
  {
   "cell_type": "markdown",
   "id": "d16cb9b7",
   "metadata": {},
   "source": [
    "### 1. Remove the source of the news if it provided:"
   ]
  },
  {
   "cell_type": "markdown",
   "id": "fa79a0fc",
   "metadata": {},
   "source": [
    "We can see there are some news start with the source of the news before the text of the news like \"WASHINGTON (Reuters) - U.S. Defense Secretary\", So we will extract this part if there is ') -' in the text and add it to another column it can be useful later."
   ]
  },
  {
   "cell_type": "code",
   "execution_count": 124,
   "id": "d7343339",
   "metadata": {},
   "outputs": [],
   "source": [
    "def extract_source(text):\n",
    "    match = re.match(r\"(.*?\\))\\s*-\\s*(.*)\", text)\n",
    "    if match:\n",
    "        source = match.group(1).strip()\n",
    "        remaining_text = match.group(2).strip()\n",
    "        return source, remaining_text\n",
    "    else:\n",
    "        return None, text"
   ]
  },
  {
   "cell_type": "code",
   "execution_count": 125,
   "id": "dfeb6a81",
   "metadata": {},
   "outputs": [],
   "source": [
    "df[['source', 'no_source_text']] = df['text'].apply(lambda t: pd.Series(extract_source(t)))"
   ]
  },
  {
   "cell_type": "code",
   "execution_count": 126,
   "id": "839266a7",
   "metadata": {},
   "outputs": [
    {
     "data": {
      "text/html": [
       "<div>\n",
       "<style scoped>\n",
       "    .dataframe tbody tr th:only-of-type {\n",
       "        vertical-align: middle;\n",
       "    }\n",
       "\n",
       "    .dataframe tbody tr th {\n",
       "        vertical-align: top;\n",
       "    }\n",
       "\n",
       "    .dataframe thead th {\n",
       "        text-align: right;\n",
       "    }\n",
       "</style>\n",
       "<table border=\"1\" class=\"dataframe\">\n",
       "  <thead>\n",
       "    <tr style=\"text-align: right;\">\n",
       "      <th></th>\n",
       "      <th>title</th>\n",
       "      <th>text</th>\n",
       "      <th>date</th>\n",
       "      <th>fake_or_factual</th>\n",
       "      <th>source</th>\n",
       "      <th>no_source_text</th>\n",
       "    </tr>\n",
       "  </thead>\n",
       "  <tbody>\n",
       "    <tr>\n",
       "      <th>0</th>\n",
       "      <td>HOLLYWEIRD LIB SUSAN SARANDON Compares Muslim ...</td>\n",
       "      <td>There are two small problems with your analogy...</td>\n",
       "      <td>Dec 30, 2015</td>\n",
       "      <td>Fake News</td>\n",
       "      <td>None</td>\n",
       "      <td>There are two small problems with your analogy...</td>\n",
       "    </tr>\n",
       "    <tr>\n",
       "      <th>1</th>\n",
       "      <td>Elijah Cummings Called Trump Out To His Face ...</td>\n",
       "      <td>Buried in Trump s bonkers interview with New Y...</td>\n",
       "      <td>April 6, 2017</td>\n",
       "      <td>Fake News</td>\n",
       "      <td>None</td>\n",
       "      <td>Buried in Trump s bonkers interview with New Y...</td>\n",
       "    </tr>\n",
       "    <tr>\n",
       "      <th>2</th>\n",
       "      <td>Hillary Clinton Says Half Her Cabinet Will Be...</td>\n",
       "      <td>Women make up over 50 percent of this country,...</td>\n",
       "      <td>April 26, 2016</td>\n",
       "      <td>Fake News</td>\n",
       "      <td>None</td>\n",
       "      <td>Women make up over 50 percent of this country,...</td>\n",
       "    </tr>\n",
       "    <tr>\n",
       "      <th>3</th>\n",
       "      <td>Russian bombing of U.S.-backed forces being di...</td>\n",
       "      <td>WASHINGTON (Reuters) - U.S. Defense Secretary ...</td>\n",
       "      <td>September 18, 2017</td>\n",
       "      <td>Factual News</td>\n",
       "      <td>WASHINGTON (Reuters)</td>\n",
       "      <td>U.S. Defense Secretary Jim Mattis said on Mond...</td>\n",
       "    </tr>\n",
       "    <tr>\n",
       "      <th>4</th>\n",
       "      <td>Britain says window to restore Northern Irelan...</td>\n",
       "      <td>BELFAST (Reuters) - Northern Ireland s politic...</td>\n",
       "      <td>September 4, 2017</td>\n",
       "      <td>Factual News</td>\n",
       "      <td>BELFAST (Reuters)</td>\n",
       "      <td>Northern Ireland s political parties are rapid...</td>\n",
       "    </tr>\n",
       "  </tbody>\n",
       "</table>\n",
       "</div>"
      ],
      "text/plain": [
       "                                               title  \\\n",
       "0  HOLLYWEIRD LIB SUSAN SARANDON Compares Muslim ...   \n",
       "1   Elijah Cummings Called Trump Out To His Face ...   \n",
       "2   Hillary Clinton Says Half Her Cabinet Will Be...   \n",
       "3  Russian bombing of U.S.-backed forces being di...   \n",
       "4  Britain says window to restore Northern Irelan...   \n",
       "\n",
       "                                                text                 date  \\\n",
       "0  There are two small problems with your analogy...         Dec 30, 2015   \n",
       "1  Buried in Trump s bonkers interview with New Y...        April 6, 2017   \n",
       "2  Women make up over 50 percent of this country,...       April 26, 2016   \n",
       "3  WASHINGTON (Reuters) - U.S. Defense Secretary ...  September 18, 2017    \n",
       "4  BELFAST (Reuters) - Northern Ireland s politic...   September 4, 2017    \n",
       "\n",
       "  fake_or_factual                source  \\\n",
       "0       Fake News                  None   \n",
       "1       Fake News                  None   \n",
       "2       Fake News                  None   \n",
       "3    Factual News  WASHINGTON (Reuters)   \n",
       "4    Factual News     BELFAST (Reuters)   \n",
       "\n",
       "                                      no_source_text  \n",
       "0  There are two small problems with your analogy...  \n",
       "1  Buried in Trump s bonkers interview with New Y...  \n",
       "2  Women make up over 50 percent of this country,...  \n",
       "3  U.S. Defense Secretary Jim Mattis said on Mond...  \n",
       "4  Northern Ireland s political parties are rapid...  "
      ]
     },
     "execution_count": 126,
     "metadata": {},
     "output_type": "execute_result"
    }
   ],
   "source": [
    "df.head()"
   ]
  },
  {
   "cell_type": "markdown",
   "id": "45ef4cef",
   "metadata": {},
   "source": [
    "### 2. Remove stopwords:"
   ]
  },
  {
   "cell_type": "code",
   "execution_count": 127,
   "id": "657a7930",
   "metadata": {},
   "outputs": [],
   "source": [
    "def remove_stopwords(text_series):\n",
    "    return text_series.apply(lambda s: ' '.join([w for w in s.split() if w not in stopwords]))"
   ]
  },
  {
   "cell_type": "code",
   "execution_count": 128,
   "id": "59d8454b",
   "metadata": {},
   "outputs": [],
   "source": [
    "df['no_stopwords_text'] = lower_remove_stopwords(df['no_source_text'])"
   ]
  },
  {
   "cell_type": "code",
   "execution_count": 129,
   "id": "a39e6f65",
   "metadata": {},
   "outputs": [
    {
     "name": "stdout",
     "output_type": "stream",
     "text": [
      "Original Text:\n",
      " Buried in Trump s bonkers interview with New York Times reporters Maggie Haberman and Glenn Thrush i\n",
      "\n",
      "---------\n",
      "With no stopwords:\n",
      " Buried Trump bonkers interview New York Times reporters Maggie Haberman Glenn Thrush outrageous exch\n"
     ]
    }
   ],
   "source": [
    "print('Original Text:\\n', df['no_source_text'][1][:100])\n",
    "print('\\n---------\\nWith no stopwords:\\n', df['no_stopwords_text'][1][:100])"
   ]
  },
  {
   "cell_type": "markdown",
   "id": "6a809411",
   "metadata": {},
   "source": [
    "### 3. Remove Punctuation:"
   ]
  },
  {
   "cell_type": "code",
   "execution_count": 130,
   "id": "8521f4b5",
   "metadata": {},
   "outputs": [],
   "source": [
    "df['no_stopwords_no_punct_text'] = df['no_stopwords_text'].apply(lambda t: re.sub(r'([^\\w\\s])', '', t))"
   ]
  },
  {
   "cell_type": "code",
   "execution_count": 131,
   "id": "2da5e62f",
   "metadata": {},
   "outputs": [
    {
     "name": "stdout",
     "output_type": "stream",
     "text": [
      "Original Text:\n",
      " Women make 50 percent country, grossly underrepresented everything. In United States Congress, 80 pe\n",
      "\n",
      "---------\n",
      "With no punctuation:\n",
      " Women make 50 percent country grossly underrepresented everything In United States Congress 80 perce\n"
     ]
    }
   ],
   "source": [
    "print('Original Text:\\n', df['no_stopwords_text'][2][:100])\n",
    "print('\\n---------\\nWith no punctuation:\\n', df['no_stopwords_no_punct_text'][2][:100])"
   ]
  },
  {
   "cell_type": "markdown",
   "id": "bb1d3dc4",
   "metadata": {},
   "source": [
    "### 4. Lemmatize text:"
   ]
  },
  {
   "cell_type": "code",
   "execution_count": 132,
   "id": "6521c0d0",
   "metadata": {},
   "outputs": [],
   "source": [
    "lemmatizer = WordNetLemmatizer()"
   ]
  },
  {
   "cell_type": "code",
   "execution_count": 133,
   "id": "0167d4c9",
   "metadata": {},
   "outputs": [],
   "source": [
    "df['lemmatized_no_stopwords_no_punct_text'] = df['no_stopwords_no_punct_text'].apply(lambda t: ' '.join(\n",
    "    [lemmatizer.lemmatize(w) for w in t.split()]))"
   ]
  },
  {
   "cell_type": "code",
   "execution_count": 134,
   "id": "2bf8a0c3",
   "metadata": {},
   "outputs": [
    {
     "name": "stdout",
     "output_type": "stream",
     "text": [
      "Original Text:\n",
      " Northern Ireland political parties rapidly running time restore devolved powersharing government Bri\n",
      "\n",
      "---------\n",
      "With no punctuation:\n",
      " Northern Ireland political party rapidly running time restore devolved powersharing government Brita\n"
     ]
    }
   ],
   "source": [
    "print('Original Text:\\n', df['no_stopwords_no_punct_text'][4][:100])\n",
    "print('\\n---------\\nWith no punctuation:\\n', df['lemmatized_no_stopwords_no_punct_text'][4][:100])"
   ]
  },
  {
   "cell_type": "markdown",
   "id": "263b9daa",
   "metadata": {},
   "source": [
    "### 5. Lowering text:"
   ]
  },
  {
   "cell_type": "code",
   "execution_count": 135,
   "id": "b0637363",
   "metadata": {},
   "outputs": [],
   "source": [
    "df['lower_lemmatized_no_stopwords_no_punct_text'] = df['lemmatized_no_stopwords_no_punct_text'].str.lower()"
   ]
  },
  {
   "cell_type": "markdown",
   "id": "331b8b43",
   "metadata": {},
   "source": [
    "### 6. Tokenize text:"
   ]
  },
  {
   "cell_type": "code",
   "execution_count": 137,
   "id": "59a74b47",
   "metadata": {},
   "outputs": [],
   "source": [
    "df['cleaned_tokens'] = df['lower_lemmatized_no_stopwords_no_punct_text'].apply(lambda t: word_tokenize(t))\n",
    "df['raw_tokens'] = df['text'].apply(lambda t: word_tokenize(t))"
   ]
  },
  {
   "cell_type": "code",
   "execution_count": 139,
   "id": "32618013",
   "metadata": {},
   "outputs": [
    {
     "data": {
      "text/html": [
       "<div>\n",
       "<style scoped>\n",
       "    .dataframe tbody tr th:only-of-type {\n",
       "        vertical-align: middle;\n",
       "    }\n",
       "\n",
       "    .dataframe tbody tr th {\n",
       "        vertical-align: top;\n",
       "    }\n",
       "\n",
       "    .dataframe thead th {\n",
       "        text-align: right;\n",
       "    }\n",
       "</style>\n",
       "<table border=\"1\" class=\"dataframe\">\n",
       "  <thead>\n",
       "    <tr style=\"text-align: right;\">\n",
       "      <th></th>\n",
       "      <th>cleaned_tokens</th>\n",
       "      <th>raw_tokens</th>\n",
       "    </tr>\n",
       "  </thead>\n",
       "  <tbody>\n",
       "    <tr>\n",
       "      <th>0</th>\n",
       "      <td>[there, two, small, problem, analogy, susan, j...</td>\n",
       "      <td>[There, are, two, small, problems, with, your,...</td>\n",
       "    </tr>\n",
       "    <tr>\n",
       "      <th>1</th>\n",
       "      <td>[buried, trump, bonkers, interview, new, york,...</td>\n",
       "      <td>[Buried, in, Trump, s, bonkers, interview, wit...</td>\n",
       "    </tr>\n",
       "    <tr>\n",
       "      <th>2</th>\n",
       "      <td>[women, make, 50, percent, country, grossly, u...</td>\n",
       "      <td>[Women, make, up, over, 50, percent, of, this,...</td>\n",
       "    </tr>\n",
       "    <tr>\n",
       "      <th>3</th>\n",
       "      <td>[us, defense, secretary, jim, mattis, said, mo...</td>\n",
       "      <td>[WASHINGTON, (, Reuters, ), -, U.S., Defense, ...</td>\n",
       "    </tr>\n",
       "    <tr>\n",
       "      <th>4</th>\n",
       "      <td>[northern, ireland, political, party, rapidly,...</td>\n",
       "      <td>[BELFAST, (, Reuters, ), -, Northern, Ireland,...</td>\n",
       "    </tr>\n",
       "  </tbody>\n",
       "</table>\n",
       "</div>"
      ],
      "text/plain": [
       "                                      cleaned_tokens  \\\n",
       "0  [there, two, small, problem, analogy, susan, j...   \n",
       "1  [buried, trump, bonkers, interview, new, york,...   \n",
       "2  [women, make, 50, percent, country, grossly, u...   \n",
       "3  [us, defense, secretary, jim, mattis, said, mo...   \n",
       "4  [northern, ireland, political, party, rapidly,...   \n",
       "\n",
       "                                          raw_tokens  \n",
       "0  [There, are, two, small, problems, with, your,...  \n",
       "1  [Buried, in, Trump, s, bonkers, interview, wit...  \n",
       "2  [Women, make, up, over, 50, percent, of, this,...  \n",
       "3  [WASHINGTON, (, Reuters, ), -, U.S., Defense, ...  \n",
       "4  [BELFAST, (, Reuters, ), -, Northern, Ireland,...  "
      ]
     },
     "execution_count": 139,
     "metadata": {},
     "output_type": "execute_result"
    }
   ],
   "source": [
    "df[['cleaned_tokens', 'raw_tokens']].head()"
   ]
  },
  {
   "cell_type": "code",
   "execution_count": null,
   "id": "66ccb09f",
   "metadata": {},
   "outputs": [],
   "source": []
  }
 ],
 "metadata": {
  "kernelspec": {
   "display_name": "Python 3 (ipykernel)",
   "language": "python",
   "name": "python3"
  },
  "language_info": {
   "codemirror_mode": {
    "name": "ipython",
    "version": 3
   },
   "file_extension": ".py",
   "mimetype": "text/x-python",
   "name": "python",
   "nbconvert_exporter": "python",
   "pygments_lexer": "ipython3",
   "version": "3.9.12"
  }
 },
 "nbformat": 4,
 "nbformat_minor": 5
}
